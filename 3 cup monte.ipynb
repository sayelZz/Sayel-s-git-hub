{
 "cells": [
  {
   "cell_type": "code",
   "execution_count": 24,
   "id": "704f8a47",
   "metadata": {},
   "outputs": [
    {
     "ename": "SyntaxError",
     "evalue": "invalid syntax (4253868770.py, line 13)",
     "output_type": "error",
     "traceback": [
      "\u001b[1;36m  Cell \u001b[1;32mIn[24], line 13\u001b[1;36m\u001b[0m\n\u001b[1;33m    else:\u001b[0m\n\u001b[1;37m    ^\u001b[0m\n\u001b[1;31mSyntaxError\u001b[0m\u001b[1;31m:\u001b[0m invalid syntax\n"
     ]
    }
   ],
   "source": [
    "from random import shuffle\n",
    "def my_random_list(mylist):\n",
    "    shuffle(mylist)\n",
    "    return mylist\n",
    "def user_guess():\n",
    "    guessed = ''\n",
    "    while guessed not in ['0','1','2']:\n",
    "        guessed = input ('pick a number 0,1 or2 ')\n",
    "    return int(guessed)\n",
    "def checking_user_guess(mylist,guessed):\n",
    "    if mylist[guessed] == '0':\n",
    "        print('correct')\n",
    "        else:\n",
    "            print('wrong choice')\n",
    "            print('mylist')\n",
    "#intitial list\n",
    "mylist = ['','0','']\n",
    "#shuffle list\n",
    "mixedup_list = my_random_list(mylist)\n",
    "print(mixed_list)\n",
    "#user guess\n",
    "guessed = user_guess()\n",
    "#check guess\n",
    "checking_guess(mixed_list_,guess)\n",
    "\n",
    "\n"
   ]
  },
  {
   "cell_type": "code",
   "execution_count": 14,
   "id": "97751a23",
   "metadata": {},
   "outputs": [
    {
     "ename": "NameError",
     "evalue": "name 'my_random_list' is not defined",
     "output_type": "error",
     "traceback": [
      "\u001b[1;31m---------------------------------------------------------------------------\u001b[0m",
      "\u001b[1;31mNameError\u001b[0m                                 Traceback (most recent call last)",
      "Cell \u001b[1;32mIn[14], line 4\u001b[0m\n\u001b[0;32m      2\u001b[0m mylist \u001b[38;5;241m=\u001b[39m [\u001b[38;5;124m'\u001b[39m\u001b[38;5;124m'\u001b[39m,\u001b[38;5;124m'\u001b[39m\u001b[38;5;124m0\u001b[39m\u001b[38;5;124m'\u001b[39m,\u001b[38;5;124m'\u001b[39m\u001b[38;5;124m'\u001b[39m]\n\u001b[0;32m      3\u001b[0m \u001b[38;5;66;03m#shuffle list\u001b[39;00m\n\u001b[1;32m----> 4\u001b[0m mixed_list \u001b[38;5;241m=\u001b[39m \u001b[43mmy_random_list\u001b[49m(mylist)\n\u001b[0;32m      5\u001b[0m \u001b[38;5;28mprint\u001b[39m(mixed_list)\n\u001b[0;32m      6\u001b[0m \u001b[38;5;66;03m#user guess\u001b[39;00m\n",
      "\u001b[1;31mNameError\u001b[0m: name 'my_random_list' is not defined"
     ]
    }
   ],
   "source": []
  },
  {
   "cell_type": "code",
   "execution_count": null,
   "id": "0be11ad5",
   "metadata": {},
   "outputs": [],
   "source": []
  }
 ],
 "metadata": {
  "kernelspec": {
   "display_name": "Python 3 (ipykernel)",
   "language": "python",
   "name": "python3"
  },
  "language_info": {
   "codemirror_mode": {
    "name": "ipython",
    "version": 3
   },
   "file_extension": ".py",
   "mimetype": "text/x-python",
   "name": "python",
   "nbconvert_exporter": "python",
   "pygments_lexer": "ipython3",
   "version": "3.10.9"
  }
 },
 "nbformat": 4,
 "nbformat_minor": 5
}
