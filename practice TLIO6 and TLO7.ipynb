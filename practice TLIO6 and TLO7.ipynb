{
 "cells": [
  {
   "cell_type": "markdown",
   "id": "2da7f66b",
   "metadata": {},
   "source": [
    "Exercise 1: Create a function to find the square of a number\n",
    "      Define a function named square_number that accepts a single argument called num.\n",
    "      \n",
    "Inside the function, calculate the square of the given number by multiplying num by itself.\n",
    "\n",
    "Return the calculated square.\n",
    "\n",
    "Call the function with a number and print the result.\n"
   ]
  },
  {
   "cell_type": "code",
   "execution_count": 3,
   "id": "06e7e7b2",
   "metadata": {},
   "outputs": [
    {
     "name": "stdout",
     "output_type": "stream",
     "text": [
      " the square of 5 is 25.\n"
     ]
    }
   ],
   "source": [
    "def squared_number(num):\n",
    "    squared= num * num\n",
    "    return squared\n",
    "number =5\n",
    "result=squared_number(number)\n",
    "print(f\" the square of {number} is {result}.\")"
   ]
  },
  {
   "cell_type": "markdown",
   "id": "e3e970b9",
   "metadata": {},
   "source": [
    "Exercise 2: Create a function to check if a string is a palindrome\n",
    "Define a function named is_palindrome that accepts a single argument called word.\n",
    "\n",
    "Inside the function, convert the word to lowercase using the lower() method.\n",
    "\n",
    "Check if the word is equal to its reverse. You can reverse the word using slicing with word[::-1].\n",
    "\n",
    "Return True if the word is a palindrome, and False otherwise.\n",
    "\n",
    "Call the function with a word and print the result.\n"
   ]
  },
  {
   "cell_type": "code",
   "execution_count": 5,
   "id": "6b92f27e",
   "metadata": {},
   "outputs": [
    {
     "name": "stdout",
     "output_type": "stream",
     "text": [
      "is'fastcar'a palindrome?25\n"
     ]
    }
   ],
   "source": [
    "def is_palindrome(WORD):\n",
    "    word =WORD.lower()\n",
    "    return word==word[::-1]\n",
    "test_word=\"fastcar\"\n",
    "reuslt = is_palindrome(test_word)\n",
    "print(f\"is'{test_word}'a palindrome?{result}\")"
   ]
  },
  {
   "cell_type": "markdown",
   "id": "535592ce",
   "metadata": {},
   "source": [
    "exercise 3: Create a function to find the factorial of a number\n",
    "\n",
    "Define a function named factorial that accepts a single argument called num.\n",
    "\n",
    "If the given number is 0 or 1, return 1.\n",
    "\n",
    "Otherwise, use a loop (or recursion) to calculate the factorial of the given number.\n",
    "\n",
    "Return the calculated factorial.\n",
    "\n",
    "Call the function with a number and print the result.\n"
   ]
  },
  {
   "cell_type": "code",
   "execution_count": 6,
   "id": "a6846df6",
   "metadata": {},
   "outputs": [],
   "source": [
    "def factorial(num):\n",
    "    if num == 0 or num == 1:\n",
    "        return 1\n",
    "    else:\n",
    "        result = 1\n",
    "        for i in range(1,num+1):\n",
    "            result *=i\n",
    "            return result\n",
    "        number = 5\n",
    "        result=factorial(number)\n",
    "        print(f\"the factorial of {number}is {result}\")\n",
    "            \n",
    "        "
   ]
  },
  {
   "cell_type": "code",
   "execution_count": 7,
   "id": "4985f54f",
   "metadata": {},
   "outputs": [
    {
     "name": "stdout",
     "output_type": "stream",
     "text": [
      "<function factorial at 0x0000010EB55AC5E0>\n"
     ]
    }
   ],
   "source": [
    "print(factorial)"
   ]
  },
  {
   "cell_type": "markdown",
   "id": "15b35bf7",
   "metadata": {},
   "source": [
    "\n",
    "Create a function to check if a number is odd\n",
    "\n",
    "Define a function named odd_check that accepts a single argument called num.\n",
    "\n",
    "Inside the function, check if the given number is odd by using the modulus operator (%) with 2. If the remainder is 1, the number is odd.\n",
    "\n",
    "Return a boolean value, True if the number is odd and False otherwise.\n",
    "\n",
    "Call the function with a number and print the result.\n",
    "\n"
   ]
  },
  {
   "cell_type": "code",
   "execution_count": 11,
   "id": "03e26936",
   "metadata": {},
   "outputs": [
    {
     "name": "stdout",
     "output_type": "stream",
     "text": [
      " is 3 odd? True\n"
     ]
    }
   ],
   "source": [
    "def odd_check(num):\n",
    "    return num %2==1\n",
    "number = 3\n",
    "result = odd_check(number)\n",
    "print(f\" is {number} odd? {result}\")"
   ]
  },
  {
   "cell_type": "markdown",
   "id": "12b36606",
   "metadata": {},
   "source": [
    "Exercise 5: Create a function to return odd numbers from a given list\n",
    "\n",
    "Define a function called odd_numbers_list that takes a single argument, num_list.\n",
    "\n",
    "Define an empty list called odd_numbers to store the odd numbers.\n",
    "\n",
    "Use a for loop to iterate through the numbers in num_list.\n",
    "\n",
    "If a number is odd, append it to the odd_numbers list.\n",
    "\n",
    "Return the odd_numbers list.\n",
    "\n",
    "Call the function with a list of numbers and print the result.\n"
   ]
  },
  {
   "cell_type": "code",
   "execution_count": 16,
   "id": "9d2cc121",
   "metadata": {},
   "outputs": [],
   "source": [
    "def odd_numbers_list(num_list):\n",
    "    odd_numbers=[]\n",
    "    for number in num_list:\n",
    "        if number%2==1:\n",
    "            odd_numbers.append(number)\n",
    "        return odd_numbers\n",
    "    numbers = [1,2,3,4,5,6,7,8,9]\n",
    "    result =odd_numbers_list(numbers)\n",
    "    print(f\"odd number is in the list:{result}\")\n",
    "    "
   ]
  },
  {
   "cell_type": "markdown",
   "id": "d5df9adb",
   "metadata": {},
   "source": [
    "Exercise 6: Create a function to find the employee of the month based on the number of hours worked\n",
    "\n",
    "Define a function named employee_of_month that accepts a single argument called work_hours.\n",
    "\n",
    "Initialize a variable current_max to 0 and a variable employee_of_month as an empty string.\n",
    "\n",
    "Use a for loop to iterate through the tuples in work_hours.\n",
    "\n",
    "Inside the loop, use tuple unpacking to get the employee's name and hours worked.\n",
    "\n",
    "\n",
    "If the employee's hours worked are greater than current_max, update current_max to the employee's hours and update employee_of_month to the employee's name.\n",
    "\n",
    "Return a tuple with the employee of the month and their hours worked.\n",
    "\n",
    "Call the function with a list of tuples containing employee names and hours worked, and print the result.\n"
   ]
  },
  {
   "cell_type": "code",
   "execution_count": 18,
   "id": "db4b2695",
   "metadata": {},
   "outputs": [],
   "source": [
    "def employee_of_month(work_hours):\n",
    "    current_max = 0\n",
    "    employee_of_month=\"\"\n",
    "    for employee_hours in  work_hours:\n",
    "        if employee_hours>current_max:\n",
    "            employee_hours=employee_of_month\n",
    "            employee_of_month = employee\n",
    "            return(employee_of_month,current_max)\n",
    "        work_hours_data=[('sayel',100),('pramil',200),('ujal',600)]\n",
    "        result = employee_of_month(work_hours_data)\n",
    "        print(f\"employee of the month is {result[0]}with{result[1]}hours worked\")\n",
    "            \n",
    "        "
   ]
  },
  {
   "cell_type": "code",
   "execution_count": null,
   "id": "86573f99",
   "metadata": {},
   "outputs": [],
   "source": []
  }
 ],
 "metadata": {
  "kernelspec": {
   "display_name": "Python 3 (ipykernel)",
   "language": "python",
   "name": "python3"
  },
  "language_info": {
   "codemirror_mode": {
    "name": "ipython",
    "version": 3
   },
   "file_extension": ".py",
   "mimetype": "text/x-python",
   "name": "python",
   "nbconvert_exporter": "python",
   "pygments_lexer": "ipython3",
   "version": "3.10.9"
  }
 },
 "nbformat": 4,
 "nbformat_minor": 5
}
