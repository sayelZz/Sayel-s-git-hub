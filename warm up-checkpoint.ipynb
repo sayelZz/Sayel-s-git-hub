{
 "cells": [
  {
   "cell_type": "code",
   "execution_count": 1,
   "id": "b5230679",
   "metadata": {},
   "outputs": [
    {
     "name": "stdout",
     "output_type": "stream",
     "text": [
      "hello world\n"
     ]
    }
   ],
   "source": [
    "print(\"hello world\")"
   ]
  },
  {
   "cell_type": "code",
   "execution_count": 5,
   "id": "0439e34b",
   "metadata": {},
   "outputs": [],
   "source": [
    "def myfunc():\n",
    "    print('hello world')"
   ]
  },
  {
   "cell_type": "code",
   "execution_count": 6,
   "id": "6ebafb6e",
   "metadata": {},
   "outputs": [
    {
     "name": "stdout",
     "output_type": "stream",
     "text": [
      "hello world\n"
     ]
    }
   ],
   "source": [
    "myfunc()"
   ]
  },
  {
   "cell_type": "code",
   "execution_count": 14,
   "id": "3bbad09a",
   "metadata": {},
   "outputs": [],
   "source": [
    "def myfunc():\n",
    "    print('my name is {}'.format('sayel'))"
   ]
  },
  {
   "cell_type": "code",
   "execution_count": 15,
   "id": "2763b970",
   "metadata": {},
   "outputs": [
    {
     "name": "stdout",
     "output_type": "stream",
     "text": [
      "my name is sayel\n"
     ]
    }
   ],
   "source": [
    "myfunc()"
   ]
  },
  {
   "cell_type": "code",
   "execution_count": 25,
   "id": "7064c451",
   "metadata": {},
   "outputs": [],
   "source": [
    "def myfunc(a):\n",
    "    if a == True:\n",
    "        return 'Inside'\n",
    "    elif a == False:\n",
    "        return 'Outside'"
   ]
  },
  {
   "cell_type": "code",
   "execution_count": 26,
   "id": "6ef8fc6b",
   "metadata": {},
   "outputs": [
    {
     "data": {
      "text/plain": [
       "'Outside'"
      ]
     },
     "execution_count": 26,
     "metadata": {},
     "output_type": "execute_result"
    }
   ],
   "source": [
    "myfunc(False)"
   ]
  },
  {
   "cell_type": "code",
   "execution_count": 2,
   "id": "d63c60a1",
   "metadata": {},
   "outputs": [],
   "source": [
    "#using Booleans using Booleans\n",
    "#Define a function called myfunc that takes three arguments, x, y and z.\n",
    "#If z is True, return x.  If z is False, return y.\n"
   ]
  },
  {
   "cell_type": "code",
   "execution_count": 48,
   "id": "519983dd",
   "metadata": {},
   "outputs": [],
   "source": [
    "def myfunc(a='hello',b='goodbye',c='false'):\n",
    "    if c == True:\n",
    "        return a\n",
    "    else:\n",
    "        return b"
   ]
  },
  {
   "cell_type": "code",
   "execution_count": 49,
   "id": "79924027",
   "metadata": {},
   "outputs": [
    {
     "data": {
      "text/plain": [
       "'goodbye'"
      ]
     },
     "execution_count": 49,
     "metadata": {},
     "output_type": "execute_result"
    }
   ],
   "source": [
    "myfunc('hello','goodbye','false')"
   ]
  },
  {
   "cell_type": "code",
   "execution_count": null,
   "id": "ac0a4ed1",
   "metadata": {},
   "outputs": [],
   "source": [
    "#simple math\n",
    "#Define a function called myfunc that takes in two arguments and returns their sum.\n",
    "#Remember, don't run the function, simply provide the definition."
   ]
  },
  {
   "cell_type": "code",
   "execution_count": 50,
   "id": "ca39fe28",
   "metadata": {},
   "outputs": [],
   "source": [
    "def myfunc(a=5,b=12):\n",
    "    return a*b"
   ]
  },
  {
   "cell_type": "code",
   "execution_count": 51,
   "id": "a9a86e41",
   "metadata": {},
   "outputs": [
    {
     "data": {
      "text/plain": [
       "60"
      ]
     },
     "execution_count": 51,
     "metadata": {},
     "output_type": "execute_result"
    }
   ],
   "source": [
    "myfunc(5,12)"
   ]
  },
  {
   "cell_type": "code",
   "execution_count": 53,
   "id": "f282aef0",
   "metadata": {},
   "outputs": [],
   "source": [
    "#6 is even Define a function called is_even that takes in one argument, and returns True if the passed-in value is even, False if it is not.\n"
   ]
  },
  {
   "cell_type": "code",
   "execution_count": 54,
   "id": "6032dbcf",
   "metadata": {},
   "outputs": [],
   "source": [
    "def is_evenly_divisible_by_3(n=15):\n",
    "    if n%3 == 0:\n",
    "        return True\n",
    "    else:\n",
    "        return False"
   ]
  },
  {
   "cell_type": "code",
   "execution_count": 55,
   "id": "a72b6a98",
   "metadata": {},
   "outputs": [
    {
     "data": {
      "text/plain": [
       "True"
      ]
     },
     "execution_count": 55,
     "metadata": {},
     "output_type": "execute_result"
    }
   ],
   "source": [
    "is_evenly_divisible_by_3(15)"
   ]
  },
  {
   "cell_type": "code",
   "execution_count": 56,
   "id": "b2b9ccd9",
   "metadata": {},
   "outputs": [],
   "source": [
    "def is_less(c=5,d=9):\n",
    "    if c < d:\n",
    "        return True\n",
    "    else:\n",
    "        return False"
   ]
  },
  {
   "cell_type": "code",
   "execution_count": 57,
   "id": "1fcb2c09",
   "metadata": {},
   "outputs": [
    {
     "data": {
      "text/plain": [
       "True"
      ]
     },
     "execution_count": 57,
     "metadata": {},
     "output_type": "execute_result"
    }
   ],
   "source": [
    "is_less(5,9)"
   ]
  },
  {
   "cell_type": "code",
   "execution_count": null,
   "id": "96074964",
   "metadata": {},
   "outputs": [],
   "source": []
  }
 ],
 "metadata": {
  "kernelspec": {
   "display_name": "Python 3 (ipykernel)",
   "language": "python",
   "name": "python3"
  },
  "language_info": {
   "codemirror_mode": {
    "name": "ipython",
    "version": 3
   },
   "file_extension": ".py",
   "mimetype": "text/x-python",
   "name": "python",
   "nbconvert_exporter": "python",
   "pygments_lexer": "ipython3",
   "version": "3.10.9"
  }
 },
 "nbformat": 4,
 "nbformat_minor": 5
}
