{
 "cells": [
  {
   "cell_type": "code",
   "execution_count": 1,
   "id": "6cb562b1",
   "metadata": {},
   "outputs": [],
   "source": [
    "#methods in python\n"
   ]
  },
  {
   "cell_type": "code",
   "execution_count": 2,
   "id": "fdf54f6b",
   "metadata": {},
   "outputs": [],
   "source": [
    "mylist=[1,2,3]\n",
    "mylist.append(4)"
   ]
  },
  {
   "cell_type": "code",
   "execution_count": 3,
   "id": "e4454f5d",
   "metadata": {},
   "outputs": [
    {
     "data": {
      "text/plain": [
       "[1, 2, 3, 4]"
      ]
     },
     "execution_count": 3,
     "metadata": {},
     "output_type": "execute_result"
    }
   ],
   "source": [
    "mylist"
   ]
  },
  {
   "cell_type": "code",
   "execution_count": 4,
   "id": "68248517",
   "metadata": {},
   "outputs": [
    {
     "data": {
      "text/plain": [
       "4"
      ]
     },
     "execution_count": 4,
     "metadata": {},
     "output_type": "execute_result"
    }
   ],
   "source": [
    "mylist.pop()"
   ]
  },
  {
   "cell_type": "code",
   "execution_count": 5,
   "id": "42941831",
   "metadata": {},
   "outputs": [
    {
     "data": {
      "text/plain": [
       "[1, 2, 3]"
      ]
     },
     "execution_count": 5,
     "metadata": {},
     "output_type": "execute_result"
    }
   ],
   "source": [
    "mylist"
   ]
  },
  {
   "cell_type": "code",
   "execution_count": 8,
   "id": "6529d9ed",
   "metadata": {},
   "outputs": [
    {
     "name": "stdout",
     "output_type": "stream",
     "text": [
      "Help on built-in function insert:\n",
      "\n",
      "insert(index, object, /) method of builtins.list instance\n",
      "    Insert object before index.\n",
      "\n"
     ]
    }
   ],
   "source": [
    "help(mylist.insert)"
   ]
  },
  {
   "cell_type": "code",
   "execution_count": 9,
   "id": "f420a5d2",
   "metadata": {},
   "outputs": [],
   "source": [
    "#def keyword\n"
   ]
  },
  {
   "cell_type": "code",
   "execution_count": 10,
   "id": "4045f1b7",
   "metadata": {},
   "outputs": [],
   "source": [
    "def  name_of_function():\n",
    "    '''\n",
    "    docstring explains function\n",
    "    '''\n",
    "    print('helo  bca')"
   ]
  },
  {
   "cell_type": "code",
   "execution_count": 11,
   "id": "f5ce250e",
   "metadata": {},
   "outputs": [
    {
     "name": "stdout",
     "output_type": "stream",
     "text": [
      "helo  bca\n"
     ]
    }
   ],
   "source": [
    "name_of_function()"
   ]
  },
  {
   "cell_type": "code",
   "execution_count": 12,
   "id": "cf3caa73",
   "metadata": {},
   "outputs": [],
   "source": [
    "def arg_name(name):\n",
    "    print(f'helo my name is {name}')\n"
   ]
  },
  {
   "cell_type": "code",
   "execution_count": 13,
   "id": "153b7ddf",
   "metadata": {},
   "outputs": [
    {
     "name": "stdout",
     "output_type": "stream",
     "text": [
      "helo my name is Sayel\n"
     ]
    }
   ],
   "source": [
    "arg_name('Sayel')"
   ]
  },
  {
   "cell_type": "code",
   "execution_count": 18,
   "id": "b1598519",
   "metadata": {},
   "outputs": [],
   "source": [
    "def add_function(num1,num2):\n",
    "    return num1+num2"
   ]
  },
  {
   "cell_type": "code",
   "execution_count": 19,
   "id": "ce74052f",
   "metadata": {},
   "outputs": [
    {
     "data": {
      "text/plain": [
       "50"
      ]
     },
     "execution_count": 19,
     "metadata": {},
     "output_type": "execute_result"
    }
   ],
   "source": [
    "add_function(20,30)"
   ]
  },
  {
   "cell_type": "code",
   "execution_count": 20,
   "id": "ea7e1892",
   "metadata": {},
   "outputs": [],
   "source": [
    "def say_hello():\n",
    "    print('hello')"
   ]
  },
  {
   "cell_type": "code",
   "execution_count": 21,
   "id": "165846a5",
   "metadata": {},
   "outputs": [
    {
     "name": "stdout",
     "output_type": "stream",
     "text": [
      "hello\n"
     ]
    }
   ],
   "source": [
    "say_hello()"
   ]
  },
  {
   "cell_type": "code",
   "execution_count": 24,
   "id": "8bdb7a3d",
   "metadata": {},
   "outputs": [],
   "source": [
    " def say_hello():\n",
    "    print('hello')\n",
    "    print('how')\n",
    "    print('are')\n",
    "    print('you')"
   ]
  },
  {
   "cell_type": "code",
   "execution_count": 33,
   "id": "bb34f604",
   "metadata": {},
   "outputs": [
    {
     "name": "stdout",
     "output_type": "stream",
     "text": [
      "hello\n",
      "how\n",
      "are\n",
      "you\n"
     ]
    }
   ],
   "source": [
    "say_hello()"
   ]
  },
  {
   "cell_type": "code",
   "execution_count": 39,
   "id": "2b050041",
   "metadata": {},
   "outputs": [],
   "source": [
    "def said_hello( name = 'bla bla bla..'):\n",
    "    print(f'hello my name is {name} ')"
   ]
  },
  {
   "cell_type": "code",
   "execution_count": 40,
   "id": "1f2d8c79",
   "metadata": {},
   "outputs": [
    {
     "name": "stdout",
     "output_type": "stream",
     "text": [
      "hello my name is bla bla bla.. \n"
     ]
    }
   ],
   "source": [
    "said_hello()"
   ]
  },
  {
   "cell_type": "code",
   "execution_count": 42,
   "id": "5d015fa9",
   "metadata": {},
   "outputs": [],
   "source": [
    "def number_add(num1,num2):\n",
    "    return num1+num2"
   ]
  },
  {
   "cell_type": "code",
   "execution_count": 43,
   "id": "2f4e5055",
   "metadata": {},
   "outputs": [
    {
     "data": {
      "text/plain": [
       "'4060'"
      ]
     },
     "execution_count": 43,
     "metadata": {},
     "output_type": "execute_result"
    }
   ],
   "source": [
    "number_add('40','60')"
   ]
  },
  {
   "cell_type": "code",
   "execution_count": null,
   "id": "cd8b7054",
   "metadata": {},
   "outputs": [],
   "source": []
  }
 ],
 "metadata": {
  "kernelspec": {
   "display_name": "Python 3 (ipykernel)",
   "language": "python",
   "name": "python3"
  },
  "language_info": {
   "codemirror_mode": {
    "name": "ipython",
    "version": 3
   },
   "file_extension": ".py",
   "mimetype": "text/x-python",
   "name": "python",
   "nbconvert_exporter": "python",
   "pygments_lexer": "ipython3",
   "version": "3.10.9"
  }
 },
 "nbformat": 4,
 "nbformat_minor": 5
}
