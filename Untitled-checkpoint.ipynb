{
 "cells": [
  {
   "cell_type": "markdown",
   "id": "2f6830c3",
   "metadata": {},
   "source": [
    " Basic if statement with input\n",
    " if-else statement with input"
   ]
  },
  {
   "cell_type": "code",
   "execution_count": 4,
   "id": "6c42e00e",
   "metadata": {},
   "outputs": [
    {
     "name": "stdout",
     "output_type": "stream",
     "text": [
      "Enter the temperature: 90\n",
      "It's hot outside!\n"
     ]
    }
   ],
   "source": [
    "temperature = int(input(\"Enter the temperature: \"))\n",
    "if temperature > 40:\n",
    "    print(\"It's hot outside!\")\n",
    "else:\n",
    "    print(\"It's not hot outside!\")\n",
    "    \n"
   ]
  },
  {
   "cell_type": "markdown",
   "id": "1e8d2531",
   "metadata": {},
   "source": [
    " if-elif-else statement with input"
   ]
  },
  {
   "cell_type": "code",
   "execution_count": 9,
   "id": "487e9f82",
   "metadata": {},
   "outputs": [
    {
     "name": "stdout",
     "output_type": "stream",
     "text": [
      "It's hot outside!\n"
     ]
    }
   ],
   "source": [
    "if temperature > 50:\n",
    "    print(\"It's hot outside!\")\n",
    "elif 30 <= temperature <= 50:\n",
    "    print(\"It's a pleasant day.\")\n",
    "else:\n",
    "    print(\"It's cold outside!\")\n"
   ]
  },
  {
   "cell_type": "markdown",
   "id": "6dcdfd1e",
   "metadata": {},
   "source": [
    "Multiple branches with if-elif-else and input"
   ]
  },
  {
   "cell_type": "code",
   "execution_count": 11,
   "id": "1c5d2cdd",
   "metadata": {},
   "outputs": [
    {
     "name": "stdout",
     "output_type": "stream",
     "text": [
      "Enter an person name: pramil\n",
      "thait!\n"
     ]
    }
   ],
   "source": [
    "person = input(\"Enter an person name: \")\n",
    "\n",
    "if person == \"pramil\":\n",
    "    print(\"thait!\")\n",
    "elif person == \"ujal\":\n",
    "    print(\"uhh!\")\n",
    "elif person == \"abishek\":\n",
    "    print(\"haha!\")\n",
    "else:\n",
    "    print(\"I don't know this person.\")\n"
   ]
  },
  {
   "cell_type": "code",
   "execution_count": 12,
   "id": "1ad2df62",
   "metadata": {},
   "outputs": [],
   "source": [
    "#For loops\n"
   ]
  },
  {
   "cell_type": "markdown",
   "id": "44cba9a7",
   "metadata": {},
   "source": [
    " Iterating through a list with input\n"
   ]
  },
  {
   "cell_type": "code",
   "execution_count": null,
   "id": "710e4808",
   "metadata": {},
   "outputs": [],
   "source": [
    "num_elements = int(input(\"Enter the number of elements in the list: \"))\n",
    "elements = []\n",
    "for i in range(num_elements):\n",
    "    element = int(input(f\"Enter element {i + 1}: \"))\n",
    "    elements.append(element)\n",
    "for num in elements:\n",
    "    print(num)\n"
   ]
  },
  {
   "cell_type": "code",
   "execution_count": null,
   "id": "66729557",
   "metadata": {},
   "outputs": [],
   "source": [
    "#Tuple unpacking with input"
   ]
  },
  {
   "cell_type": "code",
   "execution_count": null,
   "id": "bd581cee",
   "metadata": {},
   "outputs": [],
   "source": [
    "num_pairs = int(input(\"Enter the number of pairs: \"))\n",
    "pairs = []\n",
    "for i in range(num_pairs):\n",
    "    first = int(input(f\"Enter the first element of pair {i + 1}: \"))\n",
    "    second = int(input(f\"Enter the second element of pair {i + 1}: \"))\n",
    "    pairs.append((first, second))\n",
    "for a, b in pairs:\n",
    "    print(f\"First element: {a}, Second element: {b}\")\n"
   ]
  },
  {
   "cell_type": "code",
   "execution_count": null,
   "id": "ff654204",
   "metadata": {},
   "outputs": [],
   "source": []
  }
 ],
 "metadata": {
  "kernelspec": {
   "display_name": "Python 3 (ipykernel)",
   "language": "python",
   "name": "python3"
  },
  "language_info": {
   "codemirror_mode": {
    "name": "ipython",
    "version": 3
   },
   "file_extension": ".py",
   "mimetype": "text/x-python",
   "name": "python",
   "nbconvert_exporter": "python",
   "pygments_lexer": "ipython3",
   "version": "3.10.9"
  }
 },
 "nbformat": 4,
 "nbformat_minor": 5
}
