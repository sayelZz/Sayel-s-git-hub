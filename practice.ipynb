{
 "cells": [
  {
   "cell_type": "markdown",
   "id": "12906e49",
   "metadata": {},
   "source": [
    "Create variables of different data types (integer, float, string, and boolean) and perform various arithmetic operations on them.\n"
   ]
  },
  {
   "cell_type": "code",
   "execution_count": 2,
   "id": "418a4f4e",
   "metadata": {},
   "outputs": [
    {
     "name": "stdout",
     "output_type": "stream",
     "text": [
      "50 40 10.0\n"
     ]
    }
   ],
   "source": [
    "s =20\n",
    "a =2\n",
    "y =\"30\"\n",
    "result1 =s+int(y)\n",
    "result2 =s*a\n",
    "result3 =s/a\n",
    "print(result1,result2,result3)"
   ]
  },
  {
   "cell_type": "markdown",
   "id": "8b809496",
   "metadata": {},
   "source": [
    "Given a string s = \"Programming is fun!\", extract the word \"is\" using slicing.\n"
   ]
  },
  {
   "cell_type": "code",
   "execution_count": 3,
   "id": "7cbb6e4f",
   "metadata": {},
   "outputs": [
    {
     "name": "stdout",
     "output_type": "stream",
     "text": [
      "is\n"
     ]
    }
   ],
   "source": [
    "s = \"Programming is fun!\"\n",
    "extracted_word = s[12:14]\n",
    "print(extracted_word)\n"
   ]
  },
  {
   "cell_type": "markdown",
   "id": "34192a3f",
   "metadata": {},
   "source": [
    "Calculate the area of a rectangle with length l and width w using the multiplication operator.\n"
   ]
  },
  {
   "cell_type": "code",
   "execution_count": 5,
   "id": "cfd704a6",
   "metadata": {},
   "outputs": [
    {
     "name": "stdout",
     "output_type": "stream",
     "text": [
      "The area of the rectangle is: 250\n"
     ]
    }
   ],
   "source": [
    "l = 50\n",
    "w = 5\n",
    "area = l * w\n",
    "print(\"The area of the rectangle is:\", area)\n",
    "\n"
   ]
  },
  {
   "cell_type": "markdown",
   "id": "8bc28cfa",
   "metadata": {},
   "source": [
    "Given two numbers x and y, calculate their sum, difference, product, and quotient using arithmetic operators.\n"
   ]
  },
  {
   "cell_type": "code",
   "execution_count": 8,
   "id": "8672fa0b",
   "metadata": {},
   "outputs": [
    {
     "name": "stdout",
     "output_type": "stream",
     "text": [
      "Sum: 510\n",
      "Difference: -490\n",
      "Product: 5000\n",
      "Quotient: 0.02\n"
     ]
    }
   ],
   "source": [
    "s =10 \n",
    "a = 500\n",
    "sum_result = s + a\n",
    "diff_result = s - a\n",
    "prod_result = s * a\n",
    "quot_result = s / a\n",
    "print(\"Sum:\", sum_result)\n",
    "print(\"Difference:\", diff_result)\n",
    "print(\"Product:\", prod_result)\n",
    "print(\"Quotient:\", quot_result)\n"
   ]
  },
  {
   "cell_type": "markdown",
   "id": "88d2b8fe",
   "metadata": {},
   "source": [
    "Determine the remainder of the division of two numbers a and b using the modulo operator.\n"
   ]
  },
  {
   "cell_type": "code",
   "execution_count": 10,
   "id": "109796d1",
   "metadata": {},
   "outputs": [
    {
     "name": "stdout",
     "output_type": "stream",
     "text": [
      "The remainder of the division is: 1\n"
     ]
    }
   ],
   "source": [
    "s = 19\n",
    "a = 3\n",
    "remainder = s % a\n",
    "print(\"The remainder of the division is:\", remainder)\n"
   ]
  },
  {
   "cell_type": "markdown",
   "id": "9e14c305",
   "metadata": {},
   "source": [
    "This exercise demonstrates taking input from the user and performing arithmetic operations on the input numbers. The input() function is used to take input as a float, and then the sum, difference, product, and quotient of the numbers are calculated and printed.\n",
    "Take the length and width of a rectangle as input from the user and calculate its area.\n"
   ]
  },
  {
   "cell_type": "code",
   "execution_count": 11,
   "id": "0692d2b0",
   "metadata": {},
   "outputs": [
    {
     "name": "stdout",
     "output_type": "stream",
     "text": [
      "Enter the length of the rectangle: 12\n",
      "Enter the width of the rectangle: 10\n",
      "The area of the rectangle is: 120.0\n"
     ]
    }
   ],
   "source": [
    "l = float(input(\"Enter the length of the rectangle: \"))\n",
    "w = float(input(\"Enter the width of the rectangle: \"))\n",
    "area = l * w\n",
    "print(\"The area of the rectangle is:\", area)\n"
   ]
  },
  {
   "cell_type": "code",
   "execution_count": null,
   "id": "597b6a11",
   "metadata": {},
   "outputs": [],
   "source": []
  }
 ],
 "metadata": {
  "kernelspec": {
   "display_name": "Python 3 (ipykernel)",
   "language": "python",
   "name": "python3"
  },
  "language_info": {
   "codemirror_mode": {
    "name": "ipython",
    "version": 3
   },
   "file_extension": ".py",
   "mimetype": "text/x-python",
   "name": "python",
   "nbconvert_exporter": "python",
   "pygments_lexer": "ipython3",
   "version": "3.10.9"
  }
 },
 "nbformat": 4,
 "nbformat_minor": 5
}
