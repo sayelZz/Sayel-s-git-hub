{
 "cells": [
  {
   "cell_type": "code",
   "execution_count": 7,
   "id": "d2084d14",
   "metadata": {},
   "outputs": [
    {
     "name": "stdout",
     "output_type": "stream",
     "text": [
      "20\n"
     ]
    }
   ],
   "source": [
    "s = 20\n",
    "def pp():\n",
    "    s =25\n",
    "    return s\n",
    "print(s)\n"
   ]
  },
  {
   "cell_type": "code",
   "execution_count": 9,
   "id": "672ed58b",
   "metadata": {},
   "outputs": [
    {
     "name": "stdout",
     "output_type": "stream",
     "text": [
      "25\n"
     ]
    }
   ],
   "source": [
    "print(pp())"
   ]
  },
  {
   "cell_type": "code",
   "execution_count": 10,
   "id": "57f58db3",
   "metadata": {},
   "outputs": [],
   "source": [
    "#local\n",
    "#enclosing function\n",
    "#global\n",
    "#Builtin"
   ]
  },
  {
   "cell_type": "code",
   "execution_count": 19,
   "id": "517697ab",
   "metadata": {},
   "outputs": [
    {
     "name": "stdout",
     "output_type": "stream",
     "text": [
      "hello ujal khatay\n"
     ]
    }
   ],
   "source": [
    "name ='my name is global here'\n",
    "def manger():\n",
    "    name= ' ujal khatay'\n",
    "    def hello():\n",
    "        print('hello' + name)\n",
    "    \n",
    "    hello()\n",
    "    \n",
    "\n",
    "manger()\n",
    "    \n",
    "    "
   ]
  },
  {
   "cell_type": "code",
   "execution_count": 20,
   "id": "5a617c02",
   "metadata": {},
   "outputs": [
    {
     "name": "stdout",
     "output_type": "stream",
     "text": [
      "my name is global here\n"
     ]
    }
   ],
   "source": [
    "print(name)"
   ]
  },
  {
   "cell_type": "code",
   "execution_count": 24,
   "id": "c4cae25b",
   "metadata": {},
   "outputs": [
    {
     "name": "stdout",
     "output_type": "stream",
     "text": [
      "i will change value 20 to 20\n",
      "x is still 300\n"
     ]
    }
   ],
   "source": [
    "x =300\n",
    "def change():\n",
    "    x=20\n",
    "    print(f'i will change value {x} to {x}')\n",
    "    return x\n",
    "change()\n",
    "print('x is still',x)\n"
   ]
  },
  {
   "cell_type": "code",
   "execution_count": null,
   "id": "f5a83b04",
   "metadata": {},
   "outputs": [],
   "source": []
  }
 ],
 "metadata": {
  "kernelspec": {
   "display_name": "Python 3 (ipykernel)",
   "language": "python",
   "name": "python3"
  },
  "language_info": {
   "codemirror_mode": {
    "name": "ipython",
    "version": 3
   },
   "file_extension": ".py",
   "mimetype": "text/x-python",
   "name": "python",
   "nbconvert_exporter": "python",
   "pygments_lexer": "ipython3",
   "version": "3.10.9"
  }
 },
 "nbformat": 4,
 "nbformat_minor": 5
}
