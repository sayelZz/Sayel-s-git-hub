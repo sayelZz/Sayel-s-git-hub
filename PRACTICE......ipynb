{
 "cells": [
  {
   "cell_type": "markdown",
   "id": "bee58dd2",
   "metadata": {},
   "source": [
    "Utilize booleans, comparison operators, and I/O operations in Python "
   ]
  },
  {
   "cell_type": "code",
   "execution_count": 1,
   "id": "90306478",
   "metadata": {},
   "outputs": [],
   "source": [
    "# Utilize booleans, comparison operators, and I/O operations in Python "
   ]
  },
  {
   "cell_type": "code",
   "execution_count": null,
   "id": "b4de6fe9",
   "metadata": {},
   "outputs": [],
   "source": [
    "with open(\"example.txt\", \"r\") as file:\n",
    "    content = file.read()\n",
    "    print(content)\n"
   ]
  },
  {
   "cell_type": "code",
   "execution_count": 5,
   "id": "b07d8431",
   "metadata": {},
   "outputs": [],
   "source": [
    "# Create a script that reads the first line of a file named \"example.txt\" and prints it"
   ]
  },
  {
   "cell_type": "code",
   "execution_count": null,
   "id": "60b44da7",
   "metadata": {},
   "outputs": [],
   "source": [
    "with open(\"example.txt\", \"r\") as file:\n",
    "    first_line = file.readline()\n",
    "    print(first_line)\n"
   ]
  },
  {
   "cell_type": "code",
   "execution_count": 8,
   "id": "816c3a0c",
   "metadata": {},
   "outputs": [],
   "source": [
    "#Create a script that checks if the variable score is not between 30 and 60 (inclusive). Print the result.\n"
   ]
  },
  {
   "cell_type": "code",
   "execution_count": 9,
   "id": "ef0dd554",
   "metadata": {},
   "outputs": [
    {
     "name": "stdout",
     "output_type": "stream",
     "text": [
      "True\n"
     ]
    }
   ],
   "source": [
    "score = 25\n",
    "result = not (30 <= score <= 60)\n",
    "print(result)\n"
   ]
  },
  {
   "cell_type": "code",
   "execution_count": 10,
   "id": "231ef130",
   "metadata": {},
   "outputs": [],
   "source": [
    "#Create a script that checks if the variable age is between 13 and 19 (inclusive) or if the variable grade is between 7 and 12 (inclusive). Print the result.\n"
   ]
  },
  {
   "cell_type": "code",
   "execution_count": 11,
   "id": "d0a9b0d5",
   "metadata": {},
   "outputs": [
    {
     "name": "stdout",
     "output_type": "stream",
     "text": [
      "True\n"
     ]
    }
   ],
   "source": [
    "age = 15\n",
    "grade = 8\n",
    "result = 13 <= age <= 19 or 7 <= grade <= 12\n",
    "print(result)\n"
   ]
  },
  {
   "cell_type": "code",
   "execution_count": 12,
   "id": "52cb8cc0",
   "metadata": {},
   "outputs": [],
   "source": [
    "# Create a script that checks if the variable num1 is an odd number and if the variable num2 is an even number. Print the result.\n"
   ]
  },
  {
   "cell_type": "code",
   "execution_count": 13,
   "id": "7ebb8954",
   "metadata": {},
   "outputs": [
    {
     "name": "stdout",
     "output_type": "stream",
     "text": [
      "True\n"
     ]
    }
   ],
   "source": [
    "num1 = 9\n",
    "num2 = 8\n",
    "result = num1 % 2 != 0 and num2 % 2 == 0\n",
    "print(result)\n"
   ]
  },
  {
   "cell_type": "code",
   "execution_count": 14,
   "id": "a1fcb3c1",
   "metadata": {},
   "outputs": [],
   "source": [
    "# Create a script that checks if the variable a is equal to the variable b or if the variable c is equal to the variable d. Print the result.\n"
   ]
  },
  {
   "cell_type": "code",
   "execution_count": 15,
   "id": "90f496ad",
   "metadata": {},
   "outputs": [
    {
     "name": "stdout",
     "output_type": "stream",
     "text": [
      "True\n"
     ]
    }
   ],
   "source": [
    "a = 3\n",
    "b = 3\n",
    "c = 6\n",
    "d = 7\n",
    "result = a == b or c == d\n",
    "print(result)\n"
   ]
  },
  {
   "cell_type": "code",
   "execution_count": 16,
   "id": "c605a06c",
   "metadata": {},
   "outputs": [],
   "source": [
    "# Create a script that checks if the variable x is not equal to the variable y and if the variable z is greater than both x and y. Print the result.\n",
    "\n"
   ]
  },
  {
   "cell_type": "code",
   "execution_count": 17,
   "id": "1d51cfc5",
   "metadata": {},
   "outputs": [
    {
     "name": "stdout",
     "output_type": "stream",
     "text": [
      "True\n"
     ]
    }
   ],
   "source": [
    "x = 5\n",
    "y = 7\n",
    "z = 10\n",
    "result = x != y and z > x and z > y\n",
    "print(result)\n"
   ]
  },
  {
   "cell_type": "code",
   "execution_count": 18,
   "id": "ca060a91",
   "metadata": {},
   "outputs": [],
   "source": [
    "# Create a script that checks if the variable temperature is between 15 and 25 degrees Celsius (inclusive) or if the variable humidity is less than 30%. Print the result.\n"
   ]
  },
  {
   "cell_type": "code",
   "execution_count": 19,
   "id": "56c27696",
   "metadata": {},
   "outputs": [
    {
     "name": "stdout",
     "output_type": "stream",
     "text": [
      "True\n"
     ]
    }
   ],
   "source": [
    "temperature = 20\n",
    "humidity = 40\n",
    "result = 15 <= temperature <= 25 or humidity < 30\n",
    "print(result)\n",
    "\n"
   ]
  },
  {
   "cell_type": "code",
   "execution_count": 20,
   "id": "cf7dc28a",
   "metadata": {},
   "outputs": [],
   "source": [
    "# Create a script that checks if the length of the string text is between 5 and 10 characters (inclusive) and contains the letter \"a\". Print the result.\n"
   ]
  },
  {
   "cell_type": "code",
   "execution_count": 21,
   "id": "de3beacb",
   "metadata": {},
   "outputs": [
    {
     "name": "stdout",
     "output_type": "stream",
     "text": [
      "True\n"
     ]
    }
   ],
   "source": [
    "text = \"banana\"\n",
    "result = 5 <= len(text) <= 10 and 'a' in text\n",
    "print(result)\n"
   ]
  },
  {
   "cell_type": "code",
   "execution_count": 22,
   "id": "ec8b7bae",
   "metadata": {},
   "outputs": [],
   "source": [
    "#Create a script that checks if the variable num is an even number between 10 and 20 (inclusive) and prints the result.\n"
   ]
  },
  {
   "cell_type": "code",
   "execution_count": 23,
   "id": "6f79e81d",
   "metadata": {},
   "outputs": [
    {
     "name": "stdout",
     "output_type": "stream",
     "text": [
      "True\n"
     ]
    }
   ],
   "source": [
    "num = 14\n",
    "result = 10 <= num <= 20 and num % 2 == 0\n",
    "print(result)\n"
   ]
  },
  {
   "cell_type": "code",
   "execution_count": null,
   "id": "62056b1c",
   "metadata": {},
   "outputs": [],
   "source": []
  }
 ],
 "metadata": {
  "kernelspec": {
   "display_name": "Python 3 (ipykernel)",
   "language": "python",
   "name": "python3"
  },
  "language_info": {
   "codemirror_mode": {
    "name": "ipython",
    "version": 3
   },
   "file_extension": ".py",
   "mimetype": "text/x-python",
   "name": "python",
   "nbconvert_exporter": "python",
   "pygments_lexer": "ipython3",
   "version": "3.10.9"
  }
 },
 "nbformat": 4,
 "nbformat_minor": 5
}
