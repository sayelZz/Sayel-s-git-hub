{
 "cells": [
  {
   "cell_type": "code",
   "execution_count": 1,
   "id": "aa889221",
   "metadata": {},
   "outputs": [],
   "source": [
    "class Car():\n",
    "    def __init__(self,color,model,take):\n",
    "        self.color = color\n",
    "        self.model = model\n",
    "        self.take = take\n",
    "    def accelerate(self):\n",
    "        print('The car is accelerating')\n",
    "    def brake(self):\n",
    "        print('The car is braking')"
   ]
  },
  {
   "cell_type": "code",
   "execution_count": 2,
   "id": "362c82f8",
   "metadata": {},
   "outputs": [],
   "source": [
    "my_car = Car('Red','Ferrari','488GTB')"
   ]
  },
  {
   "cell_type": "code",
   "execution_count": 3,
   "id": "5b3a0ebf",
   "metadata": {},
   "outputs": [
    {
     "name": "stdout",
     "output_type": "stream",
     "text": [
      "Red\n"
     ]
    }
   ],
   "source": [
    "\n",
    "print(my_car.color)"
   ]
  },
  {
   "cell_type": "code",
   "execution_count": 4,
   "id": "7f6363cf",
   "metadata": {},
   "outputs": [
    {
     "data": {
      "text/plain": [
       "'488GTB'"
      ]
     },
     "execution_count": 4,
     "metadata": {},
     "output_type": "execute_result"
    }
   ],
   "source": [
    "\n",
    "my_car.take"
   ]
  },
  {
   "cell_type": "code",
   "execution_count": 5,
   "id": "13a8d8ea",
   "metadata": {},
   "outputs": [
    {
     "name": "stdout",
     "output_type": "stream",
     "text": [
      "The car is accelerating\n"
     ]
    }
   ],
   "source": [
    "\n",
    "my_car.accelerate()\n"
   ]
  },
  {
   "cell_type": "code",
   "execution_count": 6,
   "id": "be65bb6c",
   "metadata": {},
   "outputs": [
    {
     "name": "stdout",
     "output_type": "stream",
     "text": [
      "The car is braking\n"
     ]
    }
   ],
   "source": [
    "my_car.brake()\n"
   ]
  },
  {
   "cell_type": "code",
   "execution_count": 7,
   "id": "2a0cf185",
   "metadata": {},
   "outputs": [],
   "source": [
    "\n",
    "mylist = [1,2,3]\n"
   ]
  },
  {
   "cell_type": "code",
   "execution_count": 8,
   "id": "26584186",
   "metadata": {},
   "outputs": [
    {
     "data": {
      "text/plain": [
       "[1, 2, 3]"
      ]
     },
     "execution_count": 8,
     "metadata": {},
     "output_type": "execute_result"
    }
   ],
   "source": [
    "mylist\n"
   ]
  },
  {
   "cell_type": "code",
   "execution_count": 9,
   "id": "02044e3c",
   "metadata": {},
   "outputs": [],
   "source": [
    "\n",
    "myset = [1,2,3,4,4,5,5]\n"
   ]
  },
  {
   "cell_type": "code",
   "execution_count": 10,
   "id": "dfe13650",
   "metadata": {},
   "outputs": [],
   "source": [
    "\n",
    "myset = set()\n"
   ]
  },
  {
   "cell_type": "code",
   "execution_count": 11,
   "id": "9ec58579",
   "metadata": {},
   "outputs": [
    {
     "data": {
      "text/plain": [
       "set()"
      ]
     },
     "execution_count": 11,
     "metadata": {},
     "output_type": "execute_result"
    }
   ],
   "source": [
    "myset"
   ]
  },
  {
   "cell_type": "code",
   "execution_count": 12,
   "id": "82dbba77",
   "metadata": {},
   "outputs": [],
   "source": [
    "\n",
    "class Sample():\n",
    "    pass\n"
   ]
  },
  {
   "cell_type": "code",
   "execution_count": 13,
   "id": "6528db1e",
   "metadata": {},
   "outputs": [],
   "source": [
    "\n",
    "my_sample = Sample()"
   ]
  },
  {
   "cell_type": "code",
   "execution_count": 14,
   "id": "b7873d73",
   "metadata": {},
   "outputs": [
    {
     "data": {
      "text/plain": [
       "__main__.Sample"
      ]
     },
     "execution_count": 14,
     "metadata": {},
     "output_type": "execute_result"
    }
   ],
   "source": [
    "\n",
    "type(my_sample)\n"
   ]
  },
  {
   "cell_type": "code",
   "execution_count": 15,
   "id": "7b6e5016",
   "metadata": {},
   "outputs": [],
   "source": [
    "\n",
    "class Dog():\n",
    "    def __init__(self,breed):\n",
    "        self.breed = breed\n"
   ]
  },
  {
   "cell_type": "code",
   "execution_count": 16,
   "id": "3013dc48",
   "metadata": {},
   "outputs": [],
   "source": [
    "\n",
    "my_dog = Dog('Lab')"
   ]
  },
  {
   "cell_type": "code",
   "execution_count": 17,
   "id": "3668b8ea",
   "metadata": {},
   "outputs": [
    {
     "data": {
      "text/plain": [
       "__main__.Dog"
      ]
     },
     "execution_count": 17,
     "metadata": {},
     "output_type": "execute_result"
    }
   ],
   "source": [
    "\n",
    "type(my_dog)\n"
   ]
  },
  {
   "cell_type": "code",
   "execution_count": 18,
   "id": "f7644db3",
   "metadata": {},
   "outputs": [
    {
     "data": {
      "text/plain": [
       "'Lab'"
      ]
     },
     "execution_count": 18,
     "metadata": {},
     "output_type": "execute_result"
    }
   ],
   "source": [
    "\n",
    "my_dog.breed"
   ]
  },
  {
   "cell_type": "code",
   "execution_count": 19,
   "id": "9c7653d5",
   "metadata": {},
   "outputs": [],
   "source": [
    "\n",
    "class Dog():\n",
    " #Attributes\n",
    " #we take in the argument\n",
    " #assign it to self.attribute\n",
    " def __init__(self,mybreed):\n",
    "    self.breed = mybreed\n"
   ]
  },
  {
   "cell_type": "code",
   "execution_count": 20,
   "id": "fab3f28d",
   "metadata": {},
   "outputs": [],
   "source": [
    "\n",
    "my_dog = Dog('Huskie')\n"
   ]
  },
  {
   "cell_type": "code",
   "execution_count": 21,
   "id": "247fc412",
   "metadata": {},
   "outputs": [
    {
     "data": {
      "text/plain": [
       "'Huskie'"
      ]
     },
     "execution_count": 21,
     "metadata": {},
     "output_type": "execute_result"
    }
   ],
   "source": [
    "\n",
    "my_dog.breed"
   ]
  },
  {
   "cell_type": "code",
   "execution_count": 22,
   "id": "63f172f3",
   "metadata": {},
   "outputs": [],
   "source": [
    "class Dog():\n",
    " #Attributes\n",
    " #we take in the argument\n",
    " #assign it to self.attribute\n",
    " def __init__(self,mybreed):\n",
    "    self.my_attribute = mybreed"
   ]
  },
  {
   "cell_type": "code",
   "execution_count": 23,
   "id": "823c3f9f",
   "metadata": {},
   "outputs": [],
   "source": [
    "\n",
    "my_dog = Dog('Lab')"
   ]
  },
  {
   "cell_type": "code",
   "execution_count": 24,
   "id": "3912e5db",
   "metadata": {},
   "outputs": [
    {
     "data": {
      "text/plain": [
       "'Lab'"
      ]
     },
     "execution_count": 24,
     "metadata": {},
     "output_type": "execute_result"
    }
   ],
   "source": [
    "\n",
    "my_dog.my_attribute"
   ]
  },
  {
   "cell_type": "code",
   "execution_count": 25,
   "id": "411c2813",
   "metadata": {},
   "outputs": [],
   "source": [
    "class Dog():\n",
    "    def __init__(self,breed,name,spots):\n",
    "        self.breed = breed\n",
    "        self.name = name\n",
    " #expecting a boolean\n",
    "        self.spots = spots"
   ]
  },
  {
   "cell_type": "code",
   "execution_count": 26,
   "id": "df47f6f9",
   "metadata": {},
   "outputs": [],
   "source": [
    "\n",
    "my_dog = Dog(breed= 'Huskie',name = 'Frankie',spots = False)\n"
   ]
  },
  {
   "cell_type": "code",
   "execution_count": 27,
   "id": "ceac7ecf",
   "metadata": {},
   "outputs": [
    {
     "data": {
      "text/plain": [
       "__main__.Dog"
      ]
     },
     "execution_count": 27,
     "metadata": {},
     "output_type": "execute_result"
    }
   ],
   "source": [
    "type(my_dog)"
   ]
  },
  {
   "cell_type": "code",
   "execution_count": 28,
   "id": "b2858e0f",
   "metadata": {},
   "outputs": [
    {
     "data": {
      "text/plain": [
       "'Huskie'"
      ]
     },
     "execution_count": 28,
     "metadata": {},
     "output_type": "execute_result"
    }
   ],
   "source": [
    "my_dog.breed"
   ]
  },
  {
   "cell_type": "code",
   "execution_count": 29,
   "id": "771e548d",
   "metadata": {},
   "outputs": [
    {
     "data": {
      "text/plain": [
       "'Frankie'"
      ]
     },
     "execution_count": 29,
     "metadata": {},
     "output_type": "execute_result"
    }
   ],
   "source": [
    "my_dog.name\n"
   ]
  },
  {
   "cell_type": "code",
   "execution_count": 30,
   "id": "01c4115b",
   "metadata": {},
   "outputs": [
    {
     "data": {
      "text/plain": [
       "False"
      ]
     },
     "execution_count": 30,
     "metadata": {},
     "output_type": "execute_result"
    }
   ],
   "source": [
    "my_dog.spots"
   ]
  },
  {
   "cell_type": "code",
   "execution_count": 31,
   "id": "469e8b46",
   "metadata": {},
   "outputs": [],
   "source": [
    "\n",
    "my_dog = Dog(breed= 'Huskie',name = 'Frankie',spots = 'NO SPOTS')"
   ]
  },
  {
   "cell_type": "code",
   "execution_count": 32,
   "id": "cb1e76ff",
   "metadata": {},
   "outputs": [
    {
     "data": {
      "text/plain": [
       "'NO SPOTS'"
      ]
     },
     "execution_count": 32,
     "metadata": {},
     "output_type": "execute_result"
    }
   ],
   "source": [
    "\n",
    "my_dog.spots"
   ]
  },
  {
   "cell_type": "code",
   "execution_count": 33,
   "id": "2dfdedc8",
   "metadata": {},
   "outputs": [],
   "source": [
    "class Dog():\n",
    " #class object attributes\n",
    " #same for any instance of a class\n",
    "    species = 'mammal'\n",
    "    def __init__(self,breed,name,spots):\n",
    "        #Atrributes\n",
    "        #we take in the argument\n",
    "        #assign it to the self.attribute_name\n",
    "        self.breed = breed\n",
    "        self.name = name\n",
    "        #expecting booleans true/false\n",
    "        self.spots = spots"
   ]
  },
  {
   "cell_type": "code",
   "execution_count": 34,
   "id": "1ae01268",
   "metadata": {},
   "outputs": [],
   "source": [
    "\n",
    "my_dog = Dog(breed = 'Lab',name = 'Sam', spots = False)\n"
   ]
  },
  {
   "cell_type": "code",
   "execution_count": 35,
   "id": "99742212",
   "metadata": {},
   "outputs": [
    {
     "data": {
      "text/plain": [
       "__main__.Dog"
      ]
     },
     "execution_count": 35,
     "metadata": {},
     "output_type": "execute_result"
    }
   ],
   "source": [
    "type(my_dog)"
   ]
  },
  {
   "cell_type": "code",
   "execution_count": 36,
   "id": "e2910b50",
   "metadata": {},
   "outputs": [
    {
     "data": {
      "text/plain": [
       "'Lab'"
      ]
     },
     "execution_count": 36,
     "metadata": {},
     "output_type": "execute_result"
    }
   ],
   "source": [
    "my_dog.breed"
   ]
  },
  {
   "cell_type": "code",
   "execution_count": 37,
   "id": "15c35b22",
   "metadata": {},
   "outputs": [
    {
     "data": {
      "text/plain": [
       "'Sam'"
      ]
     },
     "execution_count": 37,
     "metadata": {},
     "output_type": "execute_result"
    }
   ],
   "source": [
    "my_dog.name"
   ]
  },
  {
   "cell_type": "code",
   "execution_count": 38,
   "id": "7ccc5e34",
   "metadata": {},
   "outputs": [
    {
     "data": {
      "text/plain": [
       "False"
      ]
     },
     "execution_count": 38,
     "metadata": {},
     "output_type": "execute_result"
    }
   ],
   "source": [
    "\n",
    "my_dog.spots\n"
   ]
  },
  {
   "cell_type": "code",
   "execution_count": 39,
   "id": "7ccc42e8",
   "metadata": {},
   "outputs": [],
   "source": [
    "class Dog():\n",
    "    #class object attributes\n",
    "    #same for any instance of a class\n",
    "    species = 'mammal'\n",
    "    def __init__(self,breed,name,spots):\n",
    "        #Atrributes\n",
    "        #we take in the argument\n",
    "        #assign it to the self.attribute_name\n",
    "        self.breed = breed\n",
    "        self.name = name\n",
    "        #expecting booleans true/fals\n",
    "        self.spots = spots\n",
    "        #Operations --> Actions\n",
    "    def bark(self,number):\n",
    "        print('Woof! my name is {} and number is {}'.format(self.name,number))"
   ]
  },
  {
   "cell_type": "code",
   "execution_count": 40,
   "id": "cb4a3a5a",
   "metadata": {},
   "outputs": [],
   "source": [
    "\n",
    "my_dog = Dog('Lab','Huskie',False)\n"
   ]
  },
  {
   "cell_type": "code",
   "execution_count": 41,
   "id": "91f9395d",
   "metadata": {},
   "outputs": [
    {
     "data": {
      "text/plain": [
       "__main__.Dog"
      ]
     },
     "execution_count": 41,
     "metadata": {},
     "output_type": "execute_result"
    }
   ],
   "source": [
    "\n",
    "type(my_dog)"
   ]
  },
  {
   "cell_type": "code",
   "execution_count": 42,
   "id": "d919240c",
   "metadata": {},
   "outputs": [
    {
     "name": "stdout",
     "output_type": "stream",
     "text": [
      "Woof! my name is Huskie and number is 10\n"
     ]
    }
   ],
   "source": [
    "\n",
    "my_dog.bark(10)\n"
   ]
  },
  {
   "cell_type": "code",
   "execution_count": 43,
   "id": "9ad6e482",
   "metadata": {},
   "outputs": [],
   "source": [
    "class Circle():\n",
    "    #class object attribute\n",
    "    pi = 3.14\n",
    "    def __init__(self,radius=1):\n",
    "        self.radius = radius\n",
    "        #method \n",
    "    def get_circumference(self):\n",
    "        return 2*self.pi*self.radius"
   ]
  },
  {
   "cell_type": "code",
   "execution_count": 44,
   "id": "eb891e81",
   "metadata": {},
   "outputs": [],
   "source": [
    "\n",
    "my_circle = Circle()"
   ]
  },
  {
   "cell_type": "code",
   "execution_count": 45,
   "id": "c6548491",
   "metadata": {},
   "outputs": [
    {
     "data": {
      "text/plain": [
       "3.14"
      ]
     },
     "execution_count": 45,
     "metadata": {},
     "output_type": "execute_result"
    }
   ],
   "source": [
    "\n",
    "my_circle.pi"
   ]
  },
  {
   "cell_type": "code",
   "execution_count": 46,
   "id": "863e895f",
   "metadata": {},
   "outputs": [
    {
     "data": {
      "text/plain": [
       "1"
      ]
     },
     "execution_count": 46,
     "metadata": {},
     "output_type": "execute_result"
    }
   ],
   "source": [
    "\n",
    "my_circle.radius"
   ]
  },
  {
   "cell_type": "code",
   "execution_count": 47,
   "id": "69f298a1",
   "metadata": {},
   "outputs": [
    {
     "data": {
      "text/plain": [
       "6.28"
      ]
     },
     "execution_count": 47,
     "metadata": {},
     "output_type": "execute_result"
    }
   ],
   "source": [
    "\n",
    "my_circle.get_circumference()\n"
   ]
  },
  {
   "cell_type": "code",
   "execution_count": 48,
   "id": "798ef3ef",
   "metadata": {},
   "outputs": [],
   "source": [
    "class Circle():\n",
    "    #class object attribute\n",
    "    pi = 3.14\n",
    "    def __init__(self,radius=1):\n",
    "        self.radius = radius\n",
    "        self.area = Circle.pi*radius*radius\n",
    "        #method \n",
    "    def get_circumference(self):\n",
    "        return 2*Circle.pi*self.radius\n"
   ]
  },
  {
   "cell_type": "code",
   "execution_count": 49,
   "id": "bf23cf3f",
   "metadata": {},
   "outputs": [],
   "source": [
    "\n",
    "my_circle = Circle(30)\n"
   ]
  },
  {
   "cell_type": "code",
   "execution_count": 50,
   "id": "9b340d0b",
   "metadata": {},
   "outputs": [
    {
     "data": {
      "text/plain": [
       "2826.0"
      ]
     },
     "execution_count": 50,
     "metadata": {},
     "output_type": "execute_result"
    }
   ],
   "source": [
    "\n",
    "my_circle.area"
   ]
  },
  {
   "cell_type": "code",
   "execution_count": 51,
   "id": "08136461",
   "metadata": {},
   "outputs": [
    {
     "data": {
      "text/plain": [
       "188.4"
      ]
     },
     "execution_count": 51,
     "metadata": {},
     "output_type": "execute_result"
    }
   ],
   "source": [
    "\n",
    "my_circle.get_circumference()\n"
   ]
  },
  {
   "cell_type": "code",
   "execution_count": 55,
   "id": "51d5223f",
   "metadata": {},
   "outputs": [],
   "source": [
    "class Animal():\n",
    "    def __init__(self):\n",
    "        print('Animal created')\n",
    "    def who_am_i(self):\n",
    "        print('I am an animal')\n",
    "    def eat(self):\n",
    "        print('Iam eating')"
   ]
  },
  {
   "cell_type": "code",
   "execution_count": 56,
   "id": "89be1520",
   "metadata": {},
   "outputs": [
    {
     "name": "stdout",
     "output_type": "stream",
     "text": [
      "Animal created\n"
     ]
    }
   ],
   "source": [
    "myanimal = Animal()"
   ]
  },
  {
   "cell_type": "code",
   "execution_count": 57,
   "id": "b3e06a5f",
   "metadata": {},
   "outputs": [
    {
     "name": "stdout",
     "output_type": "stream",
     "text": [
      "Iam eating\n"
     ]
    }
   ],
   "source": [
    "\n",
    "myanimal.eat()\n"
   ]
  },
  {
   "cell_type": "code",
   "execution_count": 58,
   "id": "c37c5d37",
   "metadata": {},
   "outputs": [
    {
     "name": "stdout",
     "output_type": "stream",
     "text": [
      "I am an animal\n"
     ]
    }
   ],
   "source": [
    "\n",
    "myanimal.who_am_i()\n"
   ]
  },
  {
   "cell_type": "code",
   "execution_count": 60,
   "id": "96a6c95f",
   "metadata": {},
   "outputs": [],
   "source": [
    "\n",
    "class Dog(Animal):\n",
    "    def __init__(self):\n",
    "        Animal.__init__(self)\n",
    "        print('Dog created')"
   ]
  },
  {
   "cell_type": "code",
   "execution_count": 61,
   "id": "43245c51",
   "metadata": {},
   "outputs": [
    {
     "name": "stdout",
     "output_type": "stream",
     "text": [
      "Animal created\n",
      "Dog created\n"
     ]
    }
   ],
   "source": [
    "my_dog = Dog()"
   ]
  },
  {
   "cell_type": "code",
   "execution_count": 62,
   "id": "ab30a4af",
   "metadata": {},
   "outputs": [
    {
     "name": "stdout",
     "output_type": "stream",
     "text": [
      "Iam eating\n"
     ]
    }
   ],
   "source": [
    "my_dog.eat()"
   ]
  },
  {
   "cell_type": "code",
   "execution_count": 64,
   "id": "1e719625",
   "metadata": {},
   "outputs": [
    {
     "name": "stdout",
     "output_type": "stream",
     "text": [
      "I am an animal\n"
     ]
    }
   ],
   "source": [
    "my_dog.who_am_i()"
   ]
  },
  {
   "cell_type": "code",
   "execution_count": 65,
   "id": "eaefe69b",
   "metadata": {},
   "outputs": [],
   "source": [
    "class Dog(Animal):\n",
    "    def __init__(self):\n",
    "        Animal.__init__(self)\n",
    "        print('Dog created')\n",
    "    def who_am_i(self):\n",
    "        print('Iam a dog')\n"
   ]
  },
  {
   "cell_type": "code",
   "execution_count": 66,
   "id": "5c9e568c",
   "metadata": {},
   "outputs": [
    {
     "name": "stdout",
     "output_type": "stream",
     "text": [
      "Animal created\n",
      "Dog created\n"
     ]
    }
   ],
   "source": [
    "my_dog = Dog()"
   ]
  },
  {
   "cell_type": "code",
   "execution_count": 67,
   "id": "fc065f8d",
   "metadata": {},
   "outputs": [
    {
     "name": "stdout",
     "output_type": "stream",
     "text": [
      "Iam a dog\n"
     ]
    }
   ],
   "source": [
    "my_dog.who_am_i()"
   ]
  },
  {
   "cell_type": "code",
   "execution_count": 68,
   "id": "6307e3c3",
   "metadata": {},
   "outputs": [],
   "source": [
    "class Dog(Animal):\n",
    "    def __init__(self):\n",
    "        Animal.__init__(self)\n",
    "        print('Dog created')\n",
    "    def who_am_i(self):\n",
    "        print('Iam a dog')\n",
    "    def eat(self):\n",
    "        print('Iam a dog and eating')\n",
    "    def bark(self):\n",
    "        print('Woof!')"
   ]
  },
  {
   "cell_type": "code",
   "execution_count": 69,
   "id": "c7922c80",
   "metadata": {},
   "outputs": [
    {
     "name": "stdout",
     "output_type": "stream",
     "text": [
      "Animal created\n",
      "Dog created\n"
     ]
    }
   ],
   "source": [
    "my_dog = Dog()"
   ]
  },
  {
   "cell_type": "code",
   "execution_count": 70,
   "id": "cb04b48f",
   "metadata": {},
   "outputs": [
    {
     "name": "stdout",
     "output_type": "stream",
     "text": [
      "Iam a dog and eating\n"
     ]
    }
   ],
   "source": [
    "my_dog.eat()"
   ]
  },
  {
   "cell_type": "code",
   "execution_count": 71,
   "id": "b6ecca87",
   "metadata": {},
   "outputs": [
    {
     "name": "stdout",
     "output_type": "stream",
     "text": [
      "Woof!\n"
     ]
    }
   ],
   "source": [
    "my_dog.bark()"
   ]
  },
  {
   "cell_type": "code",
   "execution_count": 72,
   "id": "5a84a0d2",
   "metadata": {},
   "outputs": [],
   "source": [
    "class Dog():\n",
    "    def __init__(self,name):\n",
    "        self.name = name\n",
    "    def speak(self):\n",
    "        return self.name + ' says woof!'\n",
    "class Cat():\n",
    "    def __init__(self,name):\n",
    "        self.name = name\n",
    "    def speak(self):\n",
    "        return self.name + ' says meow!'"
   ]
  },
  {
   "cell_type": "code",
   "execution_count": 73,
   "id": "099b9c81",
   "metadata": {},
   "outputs": [],
   "source": [
    "niko = Dog('niko')"
   ]
  },
  {
   "cell_type": "code",
   "execution_count": 75,
   "id": "cc4e2160",
   "metadata": {},
   "outputs": [],
   "source": [
    "felix = Cat('felix')"
   ]
  },
  {
   "cell_type": "code",
   "execution_count": 76,
   "id": "387ec617",
   "metadata": {},
   "outputs": [
    {
     "name": "stdout",
     "output_type": "stream",
     "text": [
      "niko says woof!\n"
     ]
    }
   ],
   "source": [
    "print(niko.speak())"
   ]
  },
  {
   "cell_type": "code",
   "execution_count": 78,
   "id": "50120507",
   "metadata": {},
   "outputs": [
    {
     "name": "stdout",
     "output_type": "stream",
     "text": [
      "felix says meow!\n"
     ]
    }
   ],
   "source": [
    "print(felix.speak())"
   ]
  },
  {
   "cell_type": "code",
   "execution_count": 79,
   "id": "a9405fc7",
   "metadata": {},
   "outputs": [
    {
     "name": "stdout",
     "output_type": "stream",
     "text": [
      "<class '__main__.Dog'>\n",
      "niko says woof!\n",
      "<class '__main__.Cat'>\n",
      "felix says meow!\n"
     ]
    }
   ],
   "source": [
    "\n",
    "for pet in [niko,felix]:\n",
    "    print(type(pet))\n",
    "    print(pet.speak())\n"
   ]
  },
  {
   "cell_type": "code",
   "execution_count": 80,
   "id": "1fb32bcb",
   "metadata": {},
   "outputs": [],
   "source": [
    "def pet_speak(pet):\n",
    "    print(pet.speak())"
   ]
  },
  {
   "cell_type": "code",
   "execution_count": 81,
   "id": "301584b7",
   "metadata": {},
   "outputs": [
    {
     "name": "stdout",
     "output_type": "stream",
     "text": [
      "niko says woof!\n"
     ]
    }
   ],
   "source": [
    "\n",
    "pet_speak(niko)\n"
   ]
  },
  {
   "cell_type": "code",
   "execution_count": 82,
   "id": "5276c33d",
   "metadata": {},
   "outputs": [
    {
     "name": "stdout",
     "output_type": "stream",
     "text": [
      "felix says meow!\n"
     ]
    }
   ],
   "source": [
    "\n",
    "pet_speak(felix)"
   ]
  },
  {
   "cell_type": "code",
   "execution_count": null,
   "id": "d40887b1",
   "metadata": {},
   "outputs": [],
   "source": []
  }
 ],
 "metadata": {
  "kernelspec": {
   "display_name": "Python 3 (ipykernel)",
   "language": "python",
   "name": "python3"
  },
  "language_info": {
   "codemirror_mode": {
    "name": "ipython",
    "version": 3
   },
   "file_extension": ".py",
   "mimetype": "text/x-python",
   "name": "python",
   "nbconvert_exporter": "python",
   "pygments_lexer": "ipython3",
   "version": "3.10.9"
  }
 },
 "nbformat": 4,
 "nbformat_minor": 5
}
