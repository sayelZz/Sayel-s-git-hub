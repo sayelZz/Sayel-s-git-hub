{
 "cells": [
  {
   "cell_type": "code",
   "execution_count": 1,
   "id": "8ac9082e",
   "metadata": {},
   "outputs": [],
   "source": [
    "class Car():\n",
    "    def __init__(self,color,model,make):\n",
    "        self.color = color\n",
    "        self.model = model\n",
    "        self.make = make\n",
    "    def accelerate(self):\n",
    "        print('The car is accelerating')\n",
    "    def brake(self):\n",
    "        print('The car is braking')"
   ]
  },
  {
   "cell_type": "code",
   "execution_count": 2,
   "id": "f3637ef7",
   "metadata": {},
   "outputs": [],
   "source": [
    "my_car = Car('Red','Ferrari','488GTB')"
   ]
  },
  {
   "cell_type": "code",
   "execution_count": 3,
   "id": "6afd6273",
   "metadata": {},
   "outputs": [
    {
     "name": "stdout",
     "output_type": "stream",
     "text": [
      "Red\n"
     ]
    }
   ],
   "source": [
    "\n",
    "print(my_car.color)"
   ]
  },
  {
   "cell_type": "code",
   "execution_count": 5,
   "id": "651c6aff",
   "metadata": {},
   "outputs": [
    {
     "data": {
      "text/plain": [
       "'488GTB'"
      ]
     },
     "execution_count": 5,
     "metadata": {},
     "output_type": "execute_result"
    }
   ],
   "source": [
    "\n",
    "my_car.make"
   ]
  },
  {
   "cell_type": "code",
   "execution_count": 6,
   "id": "b4e3852f",
   "metadata": {},
   "outputs": [
    {
     "name": "stdout",
     "output_type": "stream",
     "text": [
      "The car is accelerating\n"
     ]
    }
   ],
   "source": [
    "\n",
    "my_car.accelerate()\n"
   ]
  },
  {
   "cell_type": "code",
   "execution_count": null,
   "id": "dc661ce4",
   "metadata": {},
   "outputs": [],
   "source": [
    "my_car.brake()\n"
   ]
  },
  {
   "cell_type": "code",
   "execution_count": 8,
   "id": "4eed4182",
   "metadata": {},
   "outputs": [],
   "source": [
    "\n",
    "mylist = [1,2,3]\n"
   ]
  },
  {
   "cell_type": "code",
   "execution_count": 9,
   "id": "a00fb3ea",
   "metadata": {},
   "outputs": [
    {
     "data": {
      "text/plain": [
       "[1, 2, 3]"
      ]
     },
     "execution_count": 9,
     "metadata": {},
     "output_type": "execute_result"
    }
   ],
   "source": [
    "mylist\n"
   ]
  },
  {
   "cell_type": "code",
   "execution_count": 10,
   "id": "3038d156",
   "metadata": {},
   "outputs": [],
   "source": [
    "\n",
    "myset = [1,2,3,4,4,5,5]\n"
   ]
  },
  {
   "cell_type": "code",
   "execution_count": 11,
   "id": "47fed910",
   "metadata": {},
   "outputs": [],
   "source": [
    "\n",
    "myset = set()\n"
   ]
  },
  {
   "cell_type": "code",
   "execution_count": 13,
   "id": "2301cabe",
   "metadata": {},
   "outputs": [
    {
     "data": {
      "text/plain": [
       "set()"
      ]
     },
     "execution_count": 13,
     "metadata": {},
     "output_type": "execute_result"
    }
   ],
   "source": [
    "myset"
   ]
  },
  {
   "cell_type": "code",
   "execution_count": 14,
   "id": "3bbe1ec5",
   "metadata": {},
   "outputs": [],
   "source": [
    "\n",
    "class Sample():\n",
    "    pass\n"
   ]
  },
  {
   "cell_type": "code",
   "execution_count": 15,
   "id": "192d9b2a",
   "metadata": {},
   "outputs": [],
   "source": [
    "\n",
    "my_sample = Sample()"
   ]
  },
  {
   "cell_type": "code",
   "execution_count": 16,
   "id": "ca057fe9",
   "metadata": {},
   "outputs": [
    {
     "data": {
      "text/plain": [
       "__main__.Sample"
      ]
     },
     "execution_count": 16,
     "metadata": {},
     "output_type": "execute_result"
    }
   ],
   "source": [
    "\n",
    "type(my_sample)\n"
   ]
  },
  {
   "cell_type": "code",
   "execution_count": 17,
   "id": "f3f05392",
   "metadata": {},
   "outputs": [],
   "source": [
    "\n",
    "class Dog():\n",
    "    def __init__(self,breed):\n",
    "        self.breed = breed\n"
   ]
  },
  {
   "cell_type": "code",
   "execution_count": 18,
   "id": "7e66294a",
   "metadata": {},
   "outputs": [],
   "source": [
    "\n",
    "my_dog = Dog('Lab')"
   ]
  },
  {
   "cell_type": "code",
   "execution_count": 19,
   "id": "8a34770f",
   "metadata": {},
   "outputs": [
    {
     "data": {
      "text/plain": [
       "__main__.Dog"
      ]
     },
     "execution_count": 19,
     "metadata": {},
     "output_type": "execute_result"
    }
   ],
   "source": [
    "\n",
    "type(my_dog)\n"
   ]
  },
  {
   "cell_type": "code",
   "execution_count": 20,
   "id": "167bbb40",
   "metadata": {},
   "outputs": [
    {
     "data": {
      "text/plain": [
       "'Lab'"
      ]
     },
     "execution_count": 20,
     "metadata": {},
     "output_type": "execute_result"
    }
   ],
   "source": [
    "\n",
    "my_dog.breed"
   ]
  },
  {
   "cell_type": "code",
   "execution_count": 21,
   "id": "a6186e98",
   "metadata": {},
   "outputs": [],
   "source": [
    "\n",
    "class Dog():\n",
    " #Attributes\n",
    " #we take in the argument\n",
    " #assign it to self.attribute\n",
    " def __init__(self,mybreed):\n",
    "    self.breed = mybreed\n"
   ]
  },
  {
   "cell_type": "code",
   "execution_count": 22,
   "id": "9beede41",
   "metadata": {},
   "outputs": [],
   "source": [
    "\n",
    "my_dog = Dog('Huskie')\n"
   ]
  },
  {
   "cell_type": "code",
   "execution_count": 23,
   "id": "ce93c97f",
   "metadata": {},
   "outputs": [
    {
     "data": {
      "text/plain": [
       "'Huskie'"
      ]
     },
     "execution_count": 23,
     "metadata": {},
     "output_type": "execute_result"
    }
   ],
   "source": [
    "\n",
    "my_dog.breed"
   ]
  },
  {
   "cell_type": "code",
   "execution_count": 24,
   "id": "4cc62721",
   "metadata": {},
   "outputs": [],
   "source": [
    "class Dog():\n",
    " #Attributes\n",
    " #we take in the argument\n",
    " #assign it to self.attribute\n",
    " def __init__(self,mybreed):\n",
    "    self.my_attribute = mybreed"
   ]
  },
  {
   "cell_type": "code",
   "execution_count": 25,
   "id": "a2a17c02",
   "metadata": {},
   "outputs": [],
   "source": [
    "\n",
    "my_dog = Dog('Lab')"
   ]
  },
  {
   "cell_type": "code",
   "execution_count": 26,
   "id": "bd384cac",
   "metadata": {},
   "outputs": [
    {
     "data": {
      "text/plain": [
       "'Lab'"
      ]
     },
     "execution_count": 26,
     "metadata": {},
     "output_type": "execute_result"
    }
   ],
   "source": [
    "\n",
    "my_dog.my_attribute"
   ]
  },
  {
   "cell_type": "code",
   "execution_count": 28,
   "id": "1a708164",
   "metadata": {},
   "outputs": [],
   "source": [
    "class Dog():\n",
    "    def __init__(self,breed,name,spots):\n",
    "        self.breed = breed\n",
    "        self.name = name\n",
    " #expecting a boolean\n",
    "        self.spots = spots"
   ]
  },
  {
   "cell_type": "code",
   "execution_count": 29,
   "id": "e0b5102f",
   "metadata": {},
   "outputs": [],
   "source": [
    "\n",
    "my_dog = Dog(breed= 'Huskie',name = 'Frankie',spots = False)\n"
   ]
  },
  {
   "cell_type": "code",
   "execution_count": 30,
   "id": "69a2f8fc",
   "metadata": {},
   "outputs": [
    {
     "data": {
      "text/plain": [
       "__main__.Dog"
      ]
     },
     "execution_count": 30,
     "metadata": {},
     "output_type": "execute_result"
    }
   ],
   "source": [
    "type(my_dog)"
   ]
  },
  {
   "cell_type": "code",
   "execution_count": 31,
   "id": "93e21dac",
   "metadata": {},
   "outputs": [
    {
     "data": {
      "text/plain": [
       "'Huskie'"
      ]
     },
     "execution_count": 31,
     "metadata": {},
     "output_type": "execute_result"
    }
   ],
   "source": [
    "my_dog.breed"
   ]
  },
  {
   "cell_type": "code",
   "execution_count": 32,
   "id": "ddd327eb",
   "metadata": {},
   "outputs": [
    {
     "data": {
      "text/plain": [
       "'Frankie'"
      ]
     },
     "execution_count": 32,
     "metadata": {},
     "output_type": "execute_result"
    }
   ],
   "source": [
    "my_dog.name\n"
   ]
  },
  {
   "cell_type": "code",
   "execution_count": 34,
   "id": "df2fe91c",
   "metadata": {},
   "outputs": [
    {
     "data": {
      "text/plain": [
       "False"
      ]
     },
     "execution_count": 34,
     "metadata": {},
     "output_type": "execute_result"
    }
   ],
   "source": [
    "my_dog.spots"
   ]
  },
  {
   "cell_type": "code",
   "execution_count": 35,
   "id": "304a6003",
   "metadata": {},
   "outputs": [],
   "source": [
    "\n",
    "my_dog = Dog(breed= 'Huskie',name = 'Frankie',spots = 'NO SPOTS')"
   ]
  },
  {
   "cell_type": "code",
   "execution_count": 36,
   "id": "b69d58fa",
   "metadata": {},
   "outputs": [
    {
     "data": {
      "text/plain": [
       "'NO SPOTS'"
      ]
     },
     "execution_count": 36,
     "metadata": {},
     "output_type": "execute_result"
    }
   ],
   "source": [
    "\n",
    "my_dog.spots"
   ]
  },
  {
   "cell_type": "code",
   "execution_count": null,
   "id": "06bf5e39",
   "metadata": {},
   "outputs": [],
   "source": []
  }
 ],
 "metadata": {
  "kernelspec": {
   "display_name": "Python 3 (ipykernel)",
   "language": "python",
   "name": "python3"
  },
  "language_info": {
   "codemirror_mode": {
    "name": "ipython",
    "version": 3
   },
   "file_extension": ".py",
   "mimetype": "text/x-python",
   "name": "python",
   "nbconvert_exporter": "python",
   "pygments_lexer": "ipython3",
   "version": "3.10.9"
  }
 },
 "nbformat": 4,
 "nbformat_minor": 5
}
