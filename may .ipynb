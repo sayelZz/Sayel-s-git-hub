{
 "cells": [
  {
   "cell_type": "code",
   "execution_count": 1,
   "id": "ffa70703",
   "metadata": {},
   "outputs": [],
   "source": [
    "# Basic if statement with input\n",
    "#  if-else statement with input\n"
   ]
  },
  {
   "cell_type": "code",
   "execution_count": 3,
   "id": "05587afa",
   "metadata": {},
   "outputs": [
    {
     "name": "stdout",
     "output_type": "stream",
     "text": [
      "Enter the temperature: 20\n",
      "It's not hot outside!\n"
     ]
    }
   ],
   "source": [
    "temperature = int(input(\"Enter the temperature: \"))\n",
    "if temperature > 30:\n",
    "    print(\"It's hot outside!\")\n",
    "else:\n",
    "    print(\"It's not hot outside!\")\n"
   ]
  },
  {
   "cell_type": "code",
   "execution_count": 4,
   "id": "f98333e9",
   "metadata": {},
   "outputs": [],
   "source": [
    "#if-elif-else statement with input\n"
   ]
  },
  {
   "cell_type": "code",
   "execution_count": 7,
   "id": "7b7b424f",
   "metadata": {},
   "outputs": [
    {
     "name": "stdout",
     "output_type": "stream",
     "text": [
      "It's cold outside!\n"
     ]
    }
   ],
   "source": [
    "if temperature > 40:\n",
    "    print(\"It's hot outside!\")\n",
    "elif 30 <= temperature <= 40:\n",
    "    print(\"It's a pleasant day.\")\n",
    "else:\n",
    "    print(\"It's cold outside!\")\n"
   ]
  },
  {
   "cell_type": "code",
   "execution_count": 8,
   "id": "f8bf54b3",
   "metadata": {},
   "outputs": [],
   "source": [
    "#Multiple branches with if-elif-else and input\n"
   ]
  },
  {
   "cell_type": "code",
   "execution_count": 9,
   "id": "a5def722",
   "metadata": {},
   "outputs": [
    {
     "name": "stdout",
     "output_type": "stream",
     "text": [
      "Enter an animal type: dog\n",
      "I don't know this animal.\n"
     ]
    }
   ],
   "source": [
    "animal = input(\"Enter an animal type: \")\n",
    "\n",
    "if animal == \"Dog\":\n",
    "    print(\"Woof!\")\n",
    "elif animal == \"Cat\":\n",
    "    print(\"Meow!\")\n",
    "elif animal == \"Bird\":\n",
    "    print(\"Chirp!\")\n",
    "else:\n",
    "    print(\"I don't know this animal.\")\n"
   ]
  },
  {
   "cell_type": "code",
   "execution_count": 10,
   "id": "0ee68546",
   "metadata": {},
   "outputs": [],
   "source": [
    "# for loops\n"
   ]
  },
  {
   "cell_type": "code",
   "execution_count": 11,
   "id": "cab000e5",
   "metadata": {},
   "outputs": [],
   "source": [
    "# Iterating through a list with input"
   ]
  },
  {
   "cell_type": "code",
   "execution_count": 12,
   "id": "00acfa37",
   "metadata": {},
   "outputs": [
    {
     "name": "stdout",
     "output_type": "stream",
     "text": [
      "Enter the number of elements in the list: 2\n",
      "Enter element 1: 3\n",
      "Enter element 2: 4\n",
      "3\n",
      "4\n"
     ]
    }
   ],
   "source": [
    "num_elements = int(input(\"Enter the number of elements in the list: \"))\n",
    "elements = []\n",
    "for i in range(num_elements):\n",
    "    element = int(input(f\"Enter element {i + 1}: \"))\n",
    "    elements.append(element)\n",
    "for num in elements:\n",
    "    print(num)\n"
   ]
  },
  {
   "cell_type": "code",
   "execution_count": 13,
   "id": "749ac84e",
   "metadata": {},
   "outputs": [],
   "source": [
    "# Iterating through a string with input"
   ]
  },
  {
   "cell_type": "code",
   "execution_count": 14,
   "id": "b2e6d6c1",
   "metadata": {},
   "outputs": [
    {
     "name": "stdout",
     "output_type": "stream",
     "text": [
      "Enter a string: sayel\n",
      "s\n",
      "a\n",
      "y\n",
      "e\n",
      "l\n"
     ]
    }
   ],
   "source": [
    "input_string = input(\"Enter a string: \")\n",
    "for char in input_string:\n",
    "    print(char)\n"
   ]
  },
  {
   "cell_type": "code",
   "execution_count": 15,
   "id": "212ad997",
   "metadata": {},
   "outputs": [],
   "source": [
    "#  Tuple unpacking with input"
   ]
  },
  {
   "cell_type": "code",
   "execution_count": null,
   "id": "af9e4fd1",
   "metadata": {},
   "outputs": [],
   "source": []
  }
 ],
 "metadata": {
  "kernelspec": {
   "display_name": "Python 3 (ipykernel)",
   "language": "python",
   "name": "python3"
  },
  "language_info": {
   "codemirror_mode": {
    "name": "ipython",
    "version": 3
   },
   "file_extension": ".py",
   "mimetype": "text/x-python",
   "name": "python",
   "nbconvert_exporter": "python",
   "pygments_lexer": "ipython3",
   "version": "3.10.9"
  }
 },
 "nbformat": 4,
 "nbformat_minor": 5
}
